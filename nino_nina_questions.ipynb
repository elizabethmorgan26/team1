{
 "cells": [
  {
   "cell_type": "code",
   "execution_count": 1,
   "metadata": {
    "tags": []
   },
   "outputs": [],
   "source": [
    "# Dependencies and Setup\n",
    "import matplotlib.pyplot as plt\n",
    "import pandas as pd\n",
    "import numpy as np\n",
    "from scipy import stats\n",
    "from helpers import get_dataset_range\n",
    "from math import floor"
   ]
  },
  {
   "cell_type": "code",
   "execution_count": 2,
   "metadata": {},
   "outputs": [],
   "source": [
    "# NOAA classifies 2015-16 and 2010-11 as strong or very strong events\n",
    "# of el nino and la nina, respectively\n",
    "nino_data = get_dataset_range(2015, 2016)\n",
    "nina_data = get_dataset_range(2010, 2011)\n",
    "\n",
    "# all non-strong classified data\n",
    "interval1_data = get_dataset_range(2008, 2009)\n",
    "interval2_data = get_dataset_range(2012, 2014)\n",
    "interval3_data = get_dataset_range(2017, 2022)"
   ]
  },
  {
   "cell_type": "code",
   "execution_count": 3,
   "metadata": {
    "tags": []
   },
   "outputs": [],
   "source": [
    "# split relevant states into climate regions as defined:\n",
    "# https://www.ncei.noaa.gov/access/monitoring/reference-maps/us-climate-regions\n",
    "regions = {\n",
    "    'northwest': ['Washington', 'Oregon', 'Idaho'],\n",
    "    'west': ['California', 'Nevada'],\n",
    "    'southwest': ['Utah', 'New Mexico', 'Wyoming', 'Arizona'],\n",
    "    'south': ['Texas', 'Oklahoma', 'Louisiana', 'Arkansas', 'Mississippi'],\n",
    "    'southeast': ['Alabama', 'Georgia', 'Florida', 'North Carolina', 'South Carolina', 'Virginia'],\n",
    "    'midwest': ['Minnesota', 'Wisconsin', 'Michigan', 'Iowa'],\n",
    "    'ohio': ['Ohio', 'Missouri', 'Tennessee', 'Kentucky', 'West Virginia', 'Indiana', 'Illinois']\n",
    "    # exclude northeast, as it is least affected by these patterns\n",
    "}\n",
    "# too lazy to capitalize manually; need to to match dataset\n",
    "for region in regions.keys():\n",
    "    regions[region] = [r.upper() for r in regions[region]]\n",
    "\n",
    "# code until next \"===\" is mostly not used in any final analysis related\n",
    "# to the investigation of el nino / la nina \n",
    "# ============================================= \n",
    "\n",
    "def count_events(dataset_list):\n",
    "    # to count events in each region\n",
    "    region_counts = { 'northwest': 0, 'west': 0, 'southwest': 0, 'south': 0, \n",
    "                    'southeast': 0, 'midwest': 0, 'ohio': 0 }\n",
    "    for x in dataset_list.values():\n",
    "        for region in regions.keys():\n",
    "            # for each region, count storms in a state within that region\n",
    "            relevant = x[np.isin(x['STATE'], regions[region])]\n",
    "            region_counts[region] += len(relevant)\n",
    "    return region_counts\n",
    "\n",
    "# as in above method, but just for a single year\n",
    "def single_count_events(dataset):\n",
    "    region_counts = { 'northwest': 0, 'west': 0, 'southwest': 0, 'south': 0, \n",
    "                    'southeast': 0, 'midwest': 0, 'ohio': 0 }\n",
    "    for region in regions.keys():\n",
    "        relevant = dataset[np.isin(dataset['STATE'], regions[region])]\n",
    "        region_counts[region] += len(relevant)\n",
    "    return region_counts\n",
    "        "
   ]
  },
  {
   "cell_type": "code",
   "execution_count": 4,
   "metadata": {},
   "outputs": [
    {
     "name": "stdout",
     "output_type": "stream",
     "text": [
      "{'northwest': 2209, 'west': 2914, 'southwest': 5685, 'south': 18073, 'southeast': 16543, 'midwest': 10732, 'ohio': 21179}\n",
      "{'northwest': 1935, 'west': 2108, 'southwest': 5689, 'south': 22196, 'southeast': 22050, 'midwest': 13834, 'ohio': 28981}\n"
     ]
    }
   ],
   "source": [
    "# eyeball counts for each region for notable years\n",
    "nino_counts = count_events(nino_data)\n",
    "print(nino_counts)\n",
    "nina_counts = count_events(nina_data)\n",
    "print(nina_counts)"
   ]
  },
  {
   "cell_type": "code",
   "execution_count": 5,
   "metadata": {},
   "outputs": [
    {
     "name": "stdout",
     "output_type": "stream",
     "text": [
      "{'northwest': 2363.45, 'west': 4048.0, 'southwest': 6425.82, 'south': 19387.09, 'southeast': 16794.0, 'midwest': 12594.36, 'ohio': 21577.09}\n"
     ]
    }
   ],
   "source": [
    "# create intervals for the years between notable events\n",
    "interval1_counts = count_events(interval1_data)\n",
    "interval2_counts = count_events(interval2_data)\n",
    "interval3_counts = count_events(interval3_data)\n",
    "interval_num_yrs = 2+3+6\n",
    "interval_counts = { 'northwest': 0, 'west': 0, 'southwest': 0, 'south': 0, \n",
    "                    'southeast': 0, 'midwest': 0, 'ohio': 0 }\n",
    "for region in interval_counts.keys():\n",
    "    year_weight = 2 / interval_num_yrs\n",
    "    interval_counts[region] = round((interval1_counts[region] + interval2_counts[region] + interval3_counts[region]) * year_weight, 2)\n",
    "\n",
    "print(interval_counts)"
   ]
  },
  {
   "cell_type": "code",
   "execution_count": 6,
   "metadata": {
    "tags": []
   },
   "outputs": [
    {
     "data": {
      "text/html": [
       "<div>\n",
       "<style scoped>\n",
       "    .dataframe tbody tr th:only-of-type {\n",
       "        vertical-align: middle;\n",
       "    }\n",
       "\n",
       "    .dataframe tbody tr th {\n",
       "        vertical-align: top;\n",
       "    }\n",
       "\n",
       "    .dataframe thead th {\n",
       "        text-align: right;\n",
       "    }\n",
       "</style>\n",
       "<table border=\"1\" class=\"dataframe\">\n",
       "  <thead>\n",
       "    <tr style=\"text-align: right;\">\n",
       "      <th></th>\n",
       "      <th>northwest</th>\n",
       "      <th>west</th>\n",
       "      <th>southwest</th>\n",
       "      <th>south</th>\n",
       "      <th>southeast</th>\n",
       "      <th>midwest</th>\n",
       "      <th>ohio</th>\n",
       "    </tr>\n",
       "  </thead>\n",
       "  <tbody>\n",
       "    <tr>\n",
       "      <th>2008</th>\n",
       "      <td>1217</td>\n",
       "      <td>1446</td>\n",
       "      <td>1944</td>\n",
       "      <td>10923</td>\n",
       "      <td>10651</td>\n",
       "      <td>9157</td>\n",
       "      <td>13410</td>\n",
       "    </tr>\n",
       "    <tr>\n",
       "      <th>2009</th>\n",
       "      <td>916</td>\n",
       "      <td>1062</td>\n",
       "      <td>1835</td>\n",
       "      <td>11186</td>\n",
       "      <td>8807</td>\n",
       "      <td>4936</td>\n",
       "      <td>10230</td>\n",
       "    </tr>\n",
       "    <tr>\n",
       "      <th>2010</th>\n",
       "      <td>1020</td>\n",
       "      <td>1110</td>\n",
       "      <td>2765</td>\n",
       "      <td>8052</td>\n",
       "      <td>9145</td>\n",
       "      <td>7370</td>\n",
       "      <td>13107</td>\n",
       "    </tr>\n",
       "    <tr>\n",
       "      <th>2011</th>\n",
       "      <td>915</td>\n",
       "      <td>998</td>\n",
       "      <td>2924</td>\n",
       "      <td>14144</td>\n",
       "      <td>12905</td>\n",
       "      <td>6464</td>\n",
       "      <td>15874</td>\n",
       "    </tr>\n",
       "    <tr>\n",
       "      <th>2012</th>\n",
       "      <td>1286</td>\n",
       "      <td>1130</td>\n",
       "      <td>3028</td>\n",
       "      <td>10452</td>\n",
       "      <td>10325</td>\n",
       "      <td>6209</td>\n",
       "      <td>12613</td>\n",
       "    </tr>\n",
       "    <tr>\n",
       "      <th>2013</th>\n",
       "      <td>832</td>\n",
       "      <td>947</td>\n",
       "      <td>3828</td>\n",
       "      <td>10069</td>\n",
       "      <td>6512</td>\n",
       "      <td>6494</td>\n",
       "      <td>10133</td>\n",
       "    </tr>\n",
       "    <tr>\n",
       "      <th>2014</th>\n",
       "      <td>1224</td>\n",
       "      <td>1426</td>\n",
       "      <td>3614</td>\n",
       "      <td>8916</td>\n",
       "      <td>7402</td>\n",
       "      <td>6869</td>\n",
       "      <td>10076</td>\n",
       "    </tr>\n",
       "    <tr>\n",
       "      <th>2015</th>\n",
       "      <td>1292</td>\n",
       "      <td>1397</td>\n",
       "      <td>2775</td>\n",
       "      <td>10193</td>\n",
       "      <td>7834</td>\n",
       "      <td>5035</td>\n",
       "      <td>11550</td>\n",
       "    </tr>\n",
       "    <tr>\n",
       "      <th>2016</th>\n",
       "      <td>917</td>\n",
       "      <td>1517</td>\n",
       "      <td>2910</td>\n",
       "      <td>7880</td>\n",
       "      <td>8709</td>\n",
       "      <td>5697</td>\n",
       "      <td>9629</td>\n",
       "    </tr>\n",
       "    <tr>\n",
       "      <th>2017</th>\n",
       "      <td>1464</td>\n",
       "      <td>2161</td>\n",
       "      <td>3162</td>\n",
       "      <td>8620</td>\n",
       "      <td>7815</td>\n",
       "      <td>5230</td>\n",
       "      <td>9826</td>\n",
       "    </tr>\n",
       "    <tr>\n",
       "      <th>2018</th>\n",
       "      <td>996</td>\n",
       "      <td>2110</td>\n",
       "      <td>3916</td>\n",
       "      <td>8148</td>\n",
       "      <td>9129</td>\n",
       "      <td>6660</td>\n",
       "      <td>10535</td>\n",
       "    </tr>\n",
       "    <tr>\n",
       "      <th>2019</th>\n",
       "      <td>1287</td>\n",
       "      <td>3087</td>\n",
       "      <td>3150</td>\n",
       "      <td>9301</td>\n",
       "      <td>7885</td>\n",
       "      <td>7042</td>\n",
       "      <td>11639</td>\n",
       "    </tr>\n",
       "    <tr>\n",
       "      <th>2020</th>\n",
       "      <td>1295</td>\n",
       "      <td>2138</td>\n",
       "      <td>2883</td>\n",
       "      <td>8828</td>\n",
       "      <td>9091</td>\n",
       "      <td>4967</td>\n",
       "      <td>9395</td>\n",
       "    </tr>\n",
       "    <tr>\n",
       "      <th>2021</th>\n",
       "      <td>1162</td>\n",
       "      <td>3270</td>\n",
       "      <td>4093</td>\n",
       "      <td>8878</td>\n",
       "      <td>6623</td>\n",
       "      <td>5366</td>\n",
       "      <td>9089</td>\n",
       "    </tr>\n",
       "    <tr>\n",
       "      <th>2022</th>\n",
       "      <td>1320</td>\n",
       "      <td>3487</td>\n",
       "      <td>3889</td>\n",
       "      <td>11308</td>\n",
       "      <td>8127</td>\n",
       "      <td>6339</td>\n",
       "      <td>11728</td>\n",
       "    </tr>\n",
       "  </tbody>\n",
       "</table>\n",
       "</div>"
      ],
      "text/plain": [
       "      northwest  west  southwest  south  southeast  midwest   ohio\n",
       "2008       1217  1446       1944  10923      10651     9157  13410\n",
       "2009        916  1062       1835  11186       8807     4936  10230\n",
       "2010       1020  1110       2765   8052       9145     7370  13107\n",
       "2011        915   998       2924  14144      12905     6464  15874\n",
       "2012       1286  1130       3028  10452      10325     6209  12613\n",
       "2013        832   947       3828  10069       6512     6494  10133\n",
       "2014       1224  1426       3614   8916       7402     6869  10076\n",
       "2015       1292  1397       2775  10193       7834     5035  11550\n",
       "2016        917  1517       2910   7880       8709     5697   9629\n",
       "2017       1464  2161       3162   8620       7815     5230   9826\n",
       "2018        996  2110       3916   8148       9129     6660  10535\n",
       "2019       1287  3087       3150   9301       7885     7042  11639\n",
       "2020       1295  2138       2883   8828       9091     4967   9395\n",
       "2021       1162  3270       4093   8878       6623     5366   9089\n",
       "2022       1320  3487       3889  11308       8127     6339  11728"
      ]
     },
     "execution_count": 6,
     "metadata": {},
     "output_type": "execute_result"
    }
   ],
   "source": [
    "# ============================================= \n",
    "# code above this point is mostly not used in any final analysis related\n",
    "# to the investigation of el nino / la nina\n",
    "\n",
    "# get recent 15 years data\n",
    "all_years_data = get_dataset_range(2008, 2022)\n",
    "formatted_data = { 'northwest': [], 'west': [], 'southwest': [], 'south': [], \n",
    "                    'southeast': [], 'midwest': [], 'ohio': [] }\n",
    "\n",
    "# count for each region for each year\n",
    "for year in all_years_data.keys():\n",
    "    counts = single_count_events(all_years_data[year])\n",
    "    for region in regions.keys():\n",
    "        formatted_data[region].append(counts[region])\n",
    "\n",
    "# create dataframe for easy visualization / data manipulation\n",
    "formatted_df = pd.DataFrame(formatted_data, index = [year for year in all_years_data.keys()])\n",
    "formatted_df"
   ]
  },
  {
   "cell_type": "code",
   "execution_count": 7,
   "metadata": {
    "tags": []
   },
   "outputs": [
    {
     "name": "stderr",
     "output_type": "stream",
     "text": [
      "C:\\Users\\fu5i1\\Documents\\GitHub\\team1\\helpers.py:9: DtypeWarning: Columns (29,34,35,37) have mixed types. Specify dtype option on import or set low_memory=False.\n",
      "  data = pd.read_csv(f\"resources/stormevents_{i}.csv\")\n"
     ]
    },
    {
     "data": {
      "text/html": [
       "<div>\n",
       "<style scoped>\n",
       "    .dataframe tbody tr th:only-of-type {\n",
       "        vertical-align: middle;\n",
       "    }\n",
       "\n",
       "    .dataframe tbody tr th {\n",
       "        vertical-align: top;\n",
       "    }\n",
       "\n",
       "    .dataframe thead th {\n",
       "        text-align: right;\n",
       "    }\n",
       "</style>\n",
       "<table border=\"1\" class=\"dataframe\">\n",
       "  <thead>\n",
       "    <tr style=\"text-align: right;\">\n",
       "      <th></th>\n",
       "      <th>northwest</th>\n",
       "      <th>west</th>\n",
       "      <th>southwest</th>\n",
       "      <th>south</th>\n",
       "      <th>southeast</th>\n",
       "      <th>midwest</th>\n",
       "      <th>ohio</th>\n",
       "    </tr>\n",
       "  </thead>\n",
       "  <tbody>\n",
       "    <tr>\n",
       "      <th>2000</th>\n",
       "      <td>695</td>\n",
       "      <td>1025</td>\n",
       "      <td>1243</td>\n",
       "      <td>8988</td>\n",
       "      <td>8697</td>\n",
       "      <td>5429</td>\n",
       "      <td>9691</td>\n",
       "    </tr>\n",
       "    <tr>\n",
       "      <th>2001</th>\n",
       "      <td>864</td>\n",
       "      <td>1299</td>\n",
       "      <td>1017</td>\n",
       "      <td>8441</td>\n",
       "      <td>6160</td>\n",
       "      <td>6624</td>\n",
       "      <td>8391</td>\n",
       "    </tr>\n",
       "    <tr>\n",
       "      <th>2002</th>\n",
       "      <td>1024</td>\n",
       "      <td>1108</td>\n",
       "      <td>1318</td>\n",
       "      <td>7470</td>\n",
       "      <td>7727</td>\n",
       "      <td>5282</td>\n",
       "      <td>9440</td>\n",
       "    </tr>\n",
       "    <tr>\n",
       "      <th>2003</th>\n",
       "      <td>992</td>\n",
       "      <td>987</td>\n",
       "      <td>1485</td>\n",
       "      <td>8183</td>\n",
       "      <td>8664</td>\n",
       "      <td>4477</td>\n",
       "      <td>11547</td>\n",
       "    </tr>\n",
       "    <tr>\n",
       "      <th>2004</th>\n",
       "      <td>932</td>\n",
       "      <td>958</td>\n",
       "      <td>1264</td>\n",
       "      <td>8368</td>\n",
       "      <td>7186</td>\n",
       "      <td>6324</td>\n",
       "      <td>9615</td>\n",
       "    </tr>\n",
       "  </tbody>\n",
       "</table>\n",
       "</div>"
      ],
      "text/plain": [
       "      northwest  west  southwest  south  southeast  midwest   ohio\n",
       "2000        695  1025       1243   8988       8697     5429   9691\n",
       "2001        864  1299       1017   8441       6160     6624   8391\n",
       "2002       1024  1108       1318   7470       7727     5282   9440\n",
       "2003        992   987       1485   8183       8664     4477  11547\n",
       "2004        932   958       1264   8368       7186     6324   9615"
      ]
     },
     "execution_count": 7,
     "metadata": {},
     "output_type": "execute_result"
    }
   ],
   "source": [
    "# get data for the previous decade, repeat DF creation for it\n",
    "aughts_data = get_dataset_range(2000, 2011)\n",
    "formatted_data = interval_counts = { 'northwest': [], 'west': [], 'southwest': [], 'south': [], \n",
    "                    'southeast': [], 'midwest': [], 'ohio': [] }\n",
    "for year in aughts_data.keys():\n",
    "    counts = single_count_events(aughts_data[year])\n",
    "    for region in regions.keys():\n",
    "        formatted_data[region].append(counts[region])\n",
    "aughts_formatted_df = pd.DataFrame(formatted_data, index = [year for year in aughts_data.keys()])\n",
    "aughts_formatted_df.head()"
   ]
  },
  {
   "cell_type": "code",
   "execution_count": 8,
   "metadata": {},
   "outputs": [
    {
     "data": {
      "text/plain": [
       "{'northwest': 998,\n",
       " 'west': 1111,\n",
       " 'southwest': 1699,\n",
       " 'south': 9340,\n",
       " 'southeast': 8625,\n",
       " 'midwest': 6322,\n",
       " 'ohio': 10960}"
      ]
     },
     "execution_count": 8,
     "metadata": {},
     "output_type": "execute_result"
    }
   ],
   "source": [
    "# take the mean for each region over the years to establish a \"baseline\"\n",
    "baseline = { 'northwest': 0, 'west': 0, 'southwest': 0, 'south': 0, \n",
    "                    'southeast': 0, 'midwest': 0, 'ohio': 0 }\n",
    "for region in baseline.keys():\n",
    "    baseline[region] = int(round(aughts_formatted_df[region].mean(), 0))\n",
    "baseline"
   ]
  },
  {
   "cell_type": "code",
   "execution_count": 9,
   "metadata": {},
   "outputs": [
    {
     "data": {
      "text/plain": [
       "{'northwest': 1143,\n",
       " 'west': 1819,\n",
       " 'southwest': 3114,\n",
       " 'south': 9793,\n",
       " 'southeast': 8731,\n",
       " 'midwest': 6256,\n",
       " 'ohio': 11256}"
      ]
     },
     "execution_count": 9,
     "metadata": {},
     "output_type": "execute_result"
    }
   ],
   "source": [
    "# create mean for recent years as comparison\n",
    "baseline_recent = { 'northwest': 0, 'west': 0, 'southwest': 0, 'south': 0, \n",
    "                    'southeast': 0, 'midwest': 0, 'ohio': 0 }\n",
    "for region in baseline_recent.keys():\n",
    "    baseline_recent[region] = int(round(formatted_df[region].mean(), 0))\n",
    "baseline_recent"
   ]
  },
  {
   "cell_type": "code",
   "execution_count": 10,
   "metadata": {
    "tags": []
   },
   "outputs": [
    {
     "name": "stdout",
     "output_type": "stream",
     "text": [
      "Very Strong El Nino Chi-Square Comparison\n",
      "Critical Value: 12.591587243743977\n",
      "Chi-square: Power_divergenceResult(statistic=1080.7647092366285, pvalue=3.0262510330833704e-230)\n",
      "Since the chi-square value (1080.76) exceeds the critical value (12.59), the results are statistically significant\n"
     ]
    }
   ],
   "source": [
    "# compare the very strong event years to that baseline to determine if there is a significant difference\n",
    "# year categorizations found at: https://ggweather.com/enso/oni.htm\n",
    "# using data from the same organization that put together the storms dataset\n",
    "v_strong_nino_yr_counts = formatted_df.loc[2015, :]\n",
    "strong_nina_yr_counts = formatted_df.loc[2011, :]\n",
    "neither_yr_counts = formatted_df.loc[2013, :]\n",
    "\n",
    "# method to compare one year's storm counts per region to a baseline\n",
    "# established using the mean for the 2000-2010 decade;\n",
    "# comparison uses chi2 to determine statistical significance\n",
    "def chi2_count_compare(yr_counts):\n",
    "    names = [x for x in baseline.keys()]\n",
    "    \n",
    "    # scale baseline region storm counts to match year being compared to\n",
    "    base_counts = [ct for ct in baseline.values()]\n",
    "    scale = yr_counts.sum() / np.sum(base_counts)\n",
    "    for i in range(len(base_counts)):\n",
    "        base_counts[i] = floor(base_counts[i] * scale)\n",
    "    \n",
    "    # ensure that counts match exactly so we can use chi^2\n",
    "    idx = 0\n",
    "    while np.sum(base_counts) < yr_counts.sum():\n",
    "        base_counts[idx] += 1\n",
    "        if idx == len(names) - 1:\n",
    "            idx = 0\n",
    "        else:\n",
    "            idx += 1\n",
    "    \n",
    "    # obtain critical value, where degrees of freedom = number of regions - 1\n",
    "    critical_value = stats.chi2.ppf(q = 0.95, df = len(names)-1)\n",
    "    print(f\"Critical Value: {critical_value}\")\n",
    "\n",
    "    # chi2 method and clean output\n",
    "    chi2 = stats.chisquare(base_counts, [x for x in yr_counts])\n",
    "    print(f\"Chi-square: {chi2}\")\n",
    "    comparison = round(chi2[0], 2)\n",
    "    is_significant = comparison > critical_value\n",
    "    critical_value = round(critical_value, 2)\n",
    "    if is_significant:\n",
    "        print(f\"Since the chi-square value ({comparison}) exceeds the critical\" +\n",
    "                f\" value ({critical_value}), the results are statistically significant\")\n",
    "    else:\n",
    "        print(f\"Since the chi-square value ({comparison}) does not exceed the critical\" +\n",
    "                f\" value ({critical_value}), the results are not statistically significant\")\n",
    "    \n",
    "print(\"Very Strong El Nino Chi-Square Comparison\")\n",
    "chi2_count_compare(v_strong_nino_yr_counts)"
   ]
  },
  {
   "cell_type": "code",
   "execution_count": 11,
   "metadata": {
    "tags": []
   },
   "outputs": [
    {
     "name": "stdout",
     "output_type": "stream",
     "text": [
      "Strong La Nina Chi-Square Comparison\n",
      "Critical Value: 12.591587243743977\n",
      "Chi-square: Power_divergenceResult(statistic=1668.9734488801773, pvalue=0.0)\n",
      "Since the chi-square value (1668.97) exceeds the critical value (12.59), the results are statistically significant\n"
     ]
    }
   ],
   "source": [
    "print(\"Strong La Nina Chi-Square Comparison\")\n",
    "chi2_count_compare(strong_nina_yr_counts)"
   ]
  },
  {
   "cell_type": "code",
   "execution_count": 12,
   "metadata": {
    "tags": []
   },
   "outputs": [
    {
     "name": "stdout",
     "output_type": "stream",
     "text": [
      "Neutral Year Chi-Square Comparison\n",
      "Critical Value: 12.591587243743977\n",
      "Chi-square: Power_divergenceResult(statistic=2028.4451686425396, pvalue=0.0)\n",
      "Since the chi-square value (2028.45) exceeds the critical value (12.59), the results are statistically significant\n"
     ]
    }
   ],
   "source": [
    "# this is a year classified as neither el nino / la nina\n",
    "print(\"Neutral Year Chi-Square Comparison\")\n",
    "chi2_count_compare(neither_yr_counts)"
   ]
  },
  {
   "cell_type": "code",
   "execution_count": 21,
   "metadata": {
    "tags": []
   },
   "outputs": [
    {
     "data": {
      "image/png": "[encoded data removed]",
      "text/plain": [
       "<Figure size 640x480 with 1 Axes>"
      ]
     },
     "metadata": {},
     "output_type": "display_data"
    }
   ],
   "source": [
    "# create a visualization of storm counts\n",
    "# two relevant averages, a neutral year, and two strong years\n",
    "labels = [\"2000s mean\", \"15-year mean\", \"Neither\", \"V Strong El Nino\", \"Strong La Nina\"]\n",
    "sets = [baseline.values(), baseline_recent.values(), neither_yr_counts, v_strong_nino_yr_counts, strong_nina_yr_counts]\n",
    "region_tup = tuple([x for x in baseline.keys()])\n",
    "counts = {}\n",
    "for i in range(len(labels)):\n",
    "    counts[labels[i]] = tuple([y for y in sets[i]])\n",
    "\n",
    "# setup multiple bar chart\n",
    "x_ax = np.arange(len(region_tup))\n",
    "width = 0.18\n",
    "mult = 0\n",
    "\n",
    "fig, ax = plt.subplots(layout=\"constrained\")\n",
    "for set_label, region_counts in counts.items():\n",
    "    offset = width * mult\n",
    "    rects = ax.bar(x_ax + offset, region_counts, width, label=set_label)\n",
    "    mult += 1\n",
    "\n",
    "ax.set_xticks(x_ax + width, region_tup)\n",
    "plt.xticks(rotation=25)\n",
    "ax.legend(loc='upper left', ncols=2)\n",
    "plt.xlabel(\"Region (USA)\")\n",
    "plt.ylabel(\"Number of storm events\")\n",
    "plt.title(\"Storm counts for notable years, compared to relevant means\")\n",
    "ax.set_ylim(0, 18000)\n",
    "plt.show()"
   ]
  },
  {
   "cell_type": "code",
   "execution_count": 14,
   "metadata": {
    "tags": []
   },
   "outputs": [
    {
     "data": {
      "text/html": [
       "<div>\n",
       "<style scoped>\n",
       "    .dataframe tbody tr th:only-of-type {\n",
       "        vertical-align: middle;\n",
       "    }\n",
       "\n",
       "    .dataframe tbody tr th {\n",
       "        vertical-align: top;\n",
       "    }\n",
       "\n",
       "    .dataframe thead th {\n",
       "        text-align: right;\n",
       "    }\n",
       "</style>\n",
       "<table border=\"1\" class=\"dataframe\">\n",
       "  <thead>\n",
       "    <tr style=\"text-align: right;\">\n",
       "      <th></th>\n",
       "      <th>northwest</th>\n",
       "      <th>west</th>\n",
       "      <th>southwest</th>\n",
       "      <th>south</th>\n",
       "      <th>southeast</th>\n",
       "      <th>midwest</th>\n",
       "      <th>ohio</th>\n",
       "      <th>ONI_rating</th>\n",
       "      <th>ONI_rating_abs</th>\n",
       "    </tr>\n",
       "  </thead>\n",
       "  <tbody>\n",
       "    <tr>\n",
       "      <th>2008</th>\n",
       "      <td>1217</td>\n",
       "      <td>1446</td>\n",
       "      <td>1944</td>\n",
       "      <td>10923</td>\n",
       "      <td>10651</td>\n",
       "      <td>9157</td>\n",
       "      <td>13410</td>\n",
       "      <td>-1.0</td>\n",
       "      <td>1.0</td>\n",
       "    </tr>\n",
       "    <tr>\n",
       "      <th>2009</th>\n",
       "      <td>916</td>\n",
       "      <td>1062</td>\n",
       "      <td>1835</td>\n",
       "      <td>11186</td>\n",
       "      <td>8807</td>\n",
       "      <td>4936</td>\n",
       "      <td>10230</td>\n",
       "      <td>0.0</td>\n",
       "      <td>0.0</td>\n",
       "    </tr>\n",
       "    <tr>\n",
       "      <th>2010</th>\n",
       "      <td>1020</td>\n",
       "      <td>1110</td>\n",
       "      <td>2765</td>\n",
       "      <td>8052</td>\n",
       "      <td>9145</td>\n",
       "      <td>7370</td>\n",
       "      <td>13107</td>\n",
       "      <td>0.5</td>\n",
       "      <td>0.5</td>\n",
       "    </tr>\n",
       "    <tr>\n",
       "      <th>2011</th>\n",
       "      <td>915</td>\n",
       "      <td>998</td>\n",
       "      <td>2924</td>\n",
       "      <td>14144</td>\n",
       "      <td>12905</td>\n",
       "      <td>6464</td>\n",
       "      <td>15874</td>\n",
       "      <td>-4.0</td>\n",
       "      <td>4.0</td>\n",
       "    </tr>\n",
       "    <tr>\n",
       "      <th>2012</th>\n",
       "      <td>1286</td>\n",
       "      <td>1130</td>\n",
       "      <td>3028</td>\n",
       "      <td>10452</td>\n",
       "      <td>10325</td>\n",
       "      <td>6209</td>\n",
       "      <td>12613</td>\n",
       "      <td>-2.0</td>\n",
       "      <td>2.0</td>\n",
       "    </tr>\n",
       "  </tbody>\n",
       "</table>\n",
       "</div>"
      ],
      "text/plain": [
       "      northwest  west  southwest  south  southeast  midwest   ohio  \\\n",
       "2008       1217  1446       1944  10923      10651     9157  13410   \n",
       "2009        916  1062       1835  11186       8807     4936  10230   \n",
       "2010       1020  1110       2765   8052       9145     7370  13107   \n",
       "2011        915   998       2924  14144      12905     6464  15874   \n",
       "2012       1286  1130       3028  10452      10325     6209  12613   \n",
       "\n",
       "      ONI_rating  ONI_rating_abs  \n",
       "2008        -1.0             1.0  \n",
       "2009         0.0             0.0  \n",
       "2010         0.5             0.5  \n",
       "2011        -4.0             4.0  \n",
       "2012        -2.0             2.0  "
      ]
     },
     "execution_count": 14,
     "metadata": {},
     "output_type": "execute_result"
    }
   ],
   "source": [
    "# attempt to demonstrate correlation between ONI rating and storm count\n",
    "# for all regions and for each region individually; would have like to try \n",
    "# ANOVA, but not enough time to bring in full dataset\n",
    "# data again from: https://ggweather.com/enso/oni.htm\n",
    "oni_ratings = {\n",
    "    \"2008-2009\": \"WL\", \"2009-2010\": \"ME\", \"2010-2011\": \"SL\", \"2011-2012\": \"ML\",\n",
    "    \"2012-2013\": \"\", \"2013-2014\": \"\", \"2014-2015\": \"WE\", \"2015-2016\": \"VSE\",\n",
    "    \"2016-2017\": \"WL\", \"2017-2018\": \"WL\", \"2018-2019\": \"WE\",  \"2019-2020\": \"\",\n",
    "    \"2020-2021\": \"ML\", \"2021-2022\": \"ML\" \n",
    "}\n",
    "# translate strength of weather pattern to discreet values\n",
    "label_to_val_dict = {\n",
    "    \"VSE\": 4, \"SE\": 3, \"ME\": 2, \"WE\": 1,\n",
    "    \"\": 0, \"WL\": -1, \"ML\": -2, \"SL\": -3\n",
    "}\n",
    "# apply translation to each year pairing, then average, to get value per year\n",
    "# instead of per season\n",
    "year_ratings = []\n",
    "year_ratings.append(label_to_val_dict[oni_ratings[\"2008-2009\"]]) # first year\n",
    "for i in range(2008, 2021):\n",
    "    key = str(i) + \"-\" + str(i+1)\n",
    "    key2 = str(i+1) + \"-\" + str(i+2)\n",
    "    val = label_to_val_dict[oni_ratings[key]] + label_to_val_dict[oni_ratings[key2]] / 2\n",
    "    year_ratings.append(val)\n",
    "year_ratings.append(label_to_val_dict[oni_ratings[\"2021-2022\"]]) # last year\n",
    "\n",
    "# try two approaches: scalar and absolute value\n",
    "# scalar places el nino and la nina on opposite ends of a scale,\n",
    "# while taking the absolute value of the rating just looks at how \n",
    "# intense a particular year was\n",
    "abs_ratings = np.absolute(year_ratings)\n",
    "ratings_df = formatted_df.copy()\n",
    "ratings_df[\"ONI_rating\"] = year_ratings\n",
    "ratings_df[\"ONI_rating_abs\"] = abs_ratings\n",
    "# remake formatted_df with ONI ratings and absolute value\n",
    "ratings_df.head()"
   ]
  },
  {
   "cell_type": "code",
   "execution_count": 15,
   "metadata": {
    "tags": []
   },
   "outputs": [
    {
     "data": {
      "text/html": [
       "<div>\n",
       "<style scoped>\n",
       "    .dataframe tbody tr th:only-of-type {\n",
       "        vertical-align: middle;\n",
       "    }\n",
       "\n",
       "    .dataframe tbody tr th {\n",
       "        vertical-align: top;\n",
       "    }\n",
       "\n",
       "    .dataframe thead th {\n",
       "        text-align: right;\n",
       "    }\n",
       "</style>\n",
       "<table border=\"1\" class=\"dataframe\">\n",
       "  <thead>\n",
       "    <tr style=\"text-align: right;\">\n",
       "      <th></th>\n",
       "      <th>northwest</th>\n",
       "      <th>west</th>\n",
       "      <th>southwest</th>\n",
       "      <th>south</th>\n",
       "      <th>southeast</th>\n",
       "      <th>midwest</th>\n",
       "      <th>ohio</th>\n",
       "      <th>ONI_rating</th>\n",
       "    </tr>\n",
       "    <tr>\n",
       "      <th>ONI_rating_abs</th>\n",
       "      <th></th>\n",
       "      <th></th>\n",
       "      <th></th>\n",
       "      <th></th>\n",
       "      <th></th>\n",
       "      <th></th>\n",
       "      <th></th>\n",
       "      <th></th>\n",
       "    </tr>\n",
       "  </thead>\n",
       "  <tbody>\n",
       "    <tr>\n",
       "      <th>0.0</th>\n",
       "      <td>874.000000</td>\n",
       "      <td>1004.500000</td>\n",
       "      <td>2831.500000</td>\n",
       "      <td>10627.5</td>\n",
       "      <td>7659.500000</td>\n",
       "      <td>5715.000000</td>\n",
       "      <td>10181.500000</td>\n",
       "      <td>0.000000</td>\n",
       "    </tr>\n",
       "    <tr>\n",
       "      <th>0.5</th>\n",
       "      <td>1080.000000</td>\n",
       "      <td>1548.666667</td>\n",
       "      <td>3431.666667</td>\n",
       "      <td>8372.0</td>\n",
       "      <td>8558.666667</td>\n",
       "      <td>6966.333333</td>\n",
       "      <td>11239.333333</td>\n",
       "      <td>0.166667</td>\n",
       "    </tr>\n",
       "    <tr>\n",
       "      <th>1.0</th>\n",
       "      <td>1266.333333</td>\n",
       "      <td>2223.666667</td>\n",
       "      <td>2659.000000</td>\n",
       "      <td>9684.0</td>\n",
       "      <td>9209.000000</td>\n",
       "      <td>7055.333333</td>\n",
       "      <td>11481.333333</td>\n",
       "      <td>-0.333333</td>\n",
       "    </tr>\n",
       "    <tr>\n",
       "      <th>1.5</th>\n",
       "      <td>1464.000000</td>\n",
       "      <td>2161.000000</td>\n",
       "      <td>3162.000000</td>\n",
       "      <td>8620.0</td>\n",
       "      <td>7815.000000</td>\n",
       "      <td>5230.000000</td>\n",
       "      <td>9826.000000</td>\n",
       "      <td>-1.500000</td>\n",
       "    </tr>\n",
       "    <tr>\n",
       "      <th>2.0</th>\n",
       "      <td>1303.000000</td>\n",
       "      <td>2308.500000</td>\n",
       "      <td>3458.500000</td>\n",
       "      <td>10880.0</td>\n",
       "      <td>9226.000000</td>\n",
       "      <td>6274.000000</td>\n",
       "      <td>12170.500000</td>\n",
       "      <td>-2.000000</td>\n",
       "    </tr>\n",
       "  </tbody>\n",
       "</table>\n",
       "</div>"
      ],
      "text/plain": [
       "                  northwest         west    southwest    south    southeast  \\\n",
       "ONI_rating_abs                                                                \n",
       "0.0              874.000000  1004.500000  2831.500000  10627.5  7659.500000   \n",
       "0.5             1080.000000  1548.666667  3431.666667   8372.0  8558.666667   \n",
       "1.0             1266.333333  2223.666667  2659.000000   9684.0  9209.000000   \n",
       "1.5             1464.000000  2161.000000  3162.000000   8620.0  7815.000000   \n",
       "2.0             1303.000000  2308.500000  3458.500000  10880.0  9226.000000   \n",
       "\n",
       "                    midwest          ohio  ONI_rating  \n",
       "ONI_rating_abs                                         \n",
       "0.0             5715.000000  10181.500000    0.000000  \n",
       "0.5             6966.333333  11239.333333    0.166667  \n",
       "1.0             7055.333333  11481.333333   -0.333333  \n",
       "1.5             5230.000000   9826.000000   -1.500000  \n",
       "2.0             6274.000000  12170.500000   -2.000000  "
      ]
     },
     "execution_count": 15,
     "metadata": {},
     "output_type": "execute_result"
    }
   ],
   "source": [
    "# mean method for group by rating, allowing choice of which\n",
    "# rating column to group with\n",
    "def compile_region_counts_per_rating(should_use_abs):\n",
    "    relevant_col = ''\n",
    "    if should_use_abs:\n",
    "        relevant_col = \"ONI_rating_abs\"\n",
    "    else:\n",
    "        relevant_col = \"ONI_rating\"\n",
    "    grouped = ratings_df.groupby([relevant_col]).mean()\n",
    "    return grouped\n",
    "    \n",
    "# attempted here to instead use ONI_rating as a scale,\n",
    "# and try to correlate it with storm frequency in different regions\n",
    "# tried with nina/nino treated as opposite ends of a scale and\n",
    "# just the strength of the year's nino/nina\n",
    "with_abs = compile_region_counts_per_rating(True)\n",
    "no_abs = compile_region_counts_per_rating(False)\n",
    "with_abs.head()"
   ]
  },
  {
   "cell_type": "code",
   "execution_count": 16,
   "metadata": {
    "tags": []
   },
   "outputs": [
    {
     "name": "stdout",
     "output_type": "stream",
     "text": [
      "{'northwest': -0.04, 'west': -0.21, 'southwest': -0.36, 'south': -0.52, 'southeast': -0.4, 'midwest': -0.14, 'ohio': -0.37}\n",
      "{'northwest': -0.17, 'west': -0.03, 'southwest': 0.05, 'south': 0.34, 'southeast': 0.52, 'midwest': -0.25, 'ohio': 0.42}\n"
     ]
    }
   ],
   "source": [
    "# create these dicts to check if correlation values are at all reasonable before plotting\n",
    "region_corr = { 'northwest': 0, 'west': 0, 'southwest': 0, 'south': 0, \n",
    "                    'southeast': 0, 'midwest': 0, 'ohio': 0 }\n",
    "for region in region_corr.keys():\n",
    "    region_corr[region] = round(stats.pearsonr(no_abs.index, no_abs[region])[0],2)\n",
    "\n",
    "region_corr_abs = { 'northwest': 0, 'west': 0, 'southwest': 0, 'south': 0, \n",
    "                    'southeast': 0, 'midwest': 0, 'ohio': 0 }\n",
    "for region in region_corr_abs.keys():\n",
    "    region_corr_abs[region] = round(stats.pearsonr(with_abs.index, with_abs[region])[0],2)\n",
    "\n",
    "# resulting correlation values for each region for both attempted methods;\n",
    "# values are unconvincing to say the least\n",
    "print(region_corr)\n",
    "print(region_corr_abs)"
   ]
  },
  {
   "cell_type": "code",
   "execution_count": 17,
   "metadata": {
    "tags": []
   },
   "outputs": [
    {
     "name": "stdout",
     "output_type": "stream",
     "text": [
      "-0.2914285714285714\n",
      "0.1257142857142857\n"
     ]
    }
   ],
   "source": [
    "# thoroughly weak overall correlation\n",
    "print(np.mean([x for x in region_corr.values()]))\n",
    "print(np.mean([x for x in region_corr_abs.values()]))"
   ]
  },
  {
   "cell_type": "code",
   "execution_count": 18,
   "metadata": {
    "tags": []
   },
   "outputs": [
    {
     "name": "stdout",
     "output_type": "stream",
     "text": [
      "0.4\n",
      "-0.56\n"
     ]
    }
   ],
   "source": [
    "# try correlation between all regions together, not just per region\n",
    "abs_sums = []\n",
    "for i in with_abs.index:\n",
    "    abs_sums.append(with_abs.loc[i,:].sum())\n",
    "scale_sums = []\n",
    "for i in no_abs.index:\n",
    "    scale_sums.append(no_abs.loc[i,:].sum())\n",
    "\n",
    "# still not very compelling\n",
    "print(round(stats.pearsonr(with_abs.index, abs_sums)[0], 2))\n",
    "print(round(stats.pearsonr(no_abs.index, scale_sums)[0], 2))"
   ]
  },
  {
   "cell_type": "code",
   "execution_count": 19,
   "metadata": {
    "tags": []
   },
   "outputs": [
    {
     "name": "stdout",
     "output_type": "stream",
     "text": [
      "R squared: 0.15701767072361986\n",
      "Pearson-R: 0.4\n"
     ]
    },
    {
     "data": {
      "image/png": "[encoded data removed]",
      "text/plain": [
       "<Figure size 640x480 with 1 Axes>"
      ]
     },
     "metadata": {},
     "output_type": "display_data"
    }
   ],
   "source": [
    "# below two plots are the relationships with the two best pearsonr() results\n",
    "# Run linear regression\n",
    "(slope, intercept, rvalue, pvalue, stderr) = stats.linregress(with_abs.index, abs_sums)\n",
    "regress_values = with_abs.index * slope + intercept\n",
    "line_eq = \"y = \" + str(round(slope, 2)) + \"x + \" + str(round(intercept, 2))\n",
    "\n",
    "plt.scatter(with_abs.index, abs_sums)\n",
    "\n",
    "# Plot regression line\n",
    "plt.plot(with_abs.index,regress_values,\"r-\")\n",
    "plt.annotate(line_eq,(0,52000),fontsize=15,color=\"red\")\n",
    "# Print r square value\n",
    "print(f\"R squared: {rvalue**2}\")\n",
    "# Print pearsonr\n",
    "print(f\"Pearson-R: {(round(stats.pearsonr(with_abs.index, abs_sums)[0], 2))}\")\n",
    "plt.ylabel(\"Number of storms\")\n",
    "plt.xlabel(\"Intensity of weather event for year\")\n",
    "plt.title(\"Region: all considered (past 15 yrs)\")\n",
    "plt.show()"
   ]
  },
  {
   "cell_type": "code",
   "execution_count": 20,
   "metadata": {
    "tags": []
   },
   "outputs": [
    {
     "name": "stdout",
     "output_type": "stream",
     "text": [
      "R squared: 0.26743850622859544\n",
      "Pearson-R: 0.52\n"
     ]
    },
    {
     "data": {
      "image/png": "[encoded data removed]",
      "text/plain": [
       "<Figure size 640x480 with 1 Axes>"
      ]
     },
     "metadata": {},
     "output_type": "display_data"
    }
   ],
   "source": [
    "# Run linear regression\n",
    "(slope, intercept, rvalue, pvalue, stderr) = stats.linregress(with_abs.index, with_abs['southeast'])\n",
    "regress_values = with_abs.index * slope + intercept\n",
    "line_eq = \"y = \" + str(round(slope, 2)) + \"x + \" + str(round(intercept, 2))\n",
    "\n",
    "plt.scatter(with_abs.index, with_abs['southeast'])\n",
    "\n",
    "# Plot regression line\n",
    "plt.plot(with_abs.index,regress_values,\"r-\")\n",
    "plt.annotate(line_eq,(0,12000),fontsize=15,color=\"red\")\n",
    "# Print r square value\n",
    "print(f\"R squared: {rvalue**2}\")\n",
    "# Print pearsonr\n",
    "print(f\"Pearson-R: {round(region_corr_abs['southeast'], 2)}\")\n",
    "plt.ylabel(\"Number of storms\")\n",
    "plt.xlabel(\"Intensity of weather event for year\")\n",
    "plt.title(\"Region: US Southeast (past 15 yrs)\")\n",
    "plt.show()"
   ]
  }
 ],
 "metadata": {
  "kernelspec": {
   "display_name": "Python 3 (ipykernel)",
   "language": "python",
   "name": "python3"
  },
  "language_info": {
   "codemirror_mode": {
    "name": "ipython",
    "version": 3
   },
   "file_extension": ".py",
   "mimetype": "text/x-python",
   "name": "python",
   "nbconvert_exporter": "python",
   "pygments_lexer": "ipython3",
   "version": "3.10.13"
  }
 },
 "nbformat": 4,
 "nbformat_minor": 4
}

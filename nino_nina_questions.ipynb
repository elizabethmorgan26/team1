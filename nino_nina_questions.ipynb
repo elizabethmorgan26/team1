{
 "cells": [
  {
   "cell_type": "code",
   "execution_count": 6,
   "metadata": {},
   "outputs": [],
   "source": [
    "# Dependencies and Setup\n",
    "import matplotlib.pyplot as plt\n",
    "import pandas as pd\n",
    "import numpy as np\n",
    "from scipy.stats import linregress\n",
    "import hvplot.pandas\n",
    "from helpers import get_dataset_range"
   ]
  },
  {
   "cell_type": "code",
   "execution_count": 7,
   "metadata": {},
   "outputs": [],
   "source": [
    "# NOAA classifies 2015-16 and 2010-11 as strong or very strong events\n",
    "# of el nino and la nina, respectively\n",
    "nino_data = get_dataset_range(2015, 2016)\n",
    "nina_data = get_dataset_range(2010, 2011)\n",
    "\n",
    "# all non-strong classified data\n",
    "interval1_data = get_dataset_range(2008, 2009)\n",
    "interval2_data = get_dataset_range(2012, 2014)\n",
    "interval3_data = get_dataset_range(2017, 2022)"
   ]
  },
  {
   "cell_type": "code",
   "execution_count": 11,
   "metadata": {},
   "outputs": [],
   "source": [
    "# nino_data[2015].info()\n",
    "# nino_data[2015]['EVENT_TYPE'].value_counts()"
   ]
  },
  {
   "cell_type": "code",
   "execution_count": 23,
   "metadata": {},
   "outputs": [],
   "source": [
    "# split relevant states into climate regions as defined:\n",
    "# https://www.ncei.noaa.gov/access/monitoring/reference-maps/us-climate-regions\n",
    "regions = {\n",
    "    'northwest': ['Washington', 'Oregon', 'Idaho'],\n",
    "    'west': ['California', 'Nevada'],\n",
    "    'southwest': ['Utah', 'New Mexico', 'Wyoming', 'Arizona'],\n",
    "    'south': ['Texas', 'Oklahoma', 'Louisiana', 'Arkansas', 'Mississippi'],\n",
    "    'southeast': ['Alabama', 'Georgia', 'Florida', 'North Carolina', 'South Carolina', 'Virginia'],\n",
    "    'midwest': ['Minnesota', 'Wisconsin', 'Michigan', 'Iowa'],\n",
    "    'ohio': ['Ohio', 'Missouri', 'Tennessee', 'Kentucky', 'West Virginia', 'Indiana', 'Illinois']\n",
    "    # exclude northeast\n",
    "}\n",
    "# too lazy to caps manually\n",
    "for region in regions.keys():\n",
    "    regions[region] = [r.upper() for r in regions[region]]\n",
    "\n",
    "def count_events(dataset_list):\n",
    "    # to count events in each region\n",
    "    region_counts = { 'northwest': 0, 'west': 0, 'southwest': 0, 'south': 0, \n",
    "                    'southeast': 0, 'midwest': 0, 'ohio': 0 }\n",
    "    for set in dataset_list.values():\n",
    "        for region in regions.keys():\n",
    "            # relevant = set[set['STATE'] in region]\n",
    "            relevant = set[np.isin(set['STATE'], regions[region])]\n",
    "            region_counts[region] += len(relevant)\n",
    "    return region_counts\n",
    "        "
   ]
  },
  {
   "cell_type": "code",
   "execution_count": 25,
   "metadata": {},
   "outputs": [
    {
     "name": "stdout",
     "output_type": "stream",
     "text": [
      "{'northwest': 2209, 'west': 2914, 'southwest': 5685, 'south': 18073, 'southeast': 16543, 'midwest': 10732, 'ohio': 21179}\n",
      "{'northwest': 1935, 'west': 2108, 'southwest': 5689, 'south': 22196, 'southeast': 22050, 'midwest': 13834, 'ohio': 28981}\n"
     ]
    }
   ],
   "source": [
    "nino_counts = count_events(nino_data)\n",
    "print(nino_counts)\n",
    "nina_counts = count_events(nina_data)\n",
    "print(nina_counts)"
   ]
  },
  {
   "cell_type": "code",
   "execution_count": 28,
   "metadata": {},
   "outputs": [
    {
     "name": "stdout",
     "output_type": "stream",
     "text": [
      "{'northwest': 1975.64, 'west': 3592.0, 'southwest': 5738.73, 'south': 15367.27, 'southeast': 13256.18, 'midwest': 10032.0, 'ohio': 17278.91}\n"
     ]
    }
   ],
   "source": [
    "interval1_counts = count_events(interval1_data)\n",
    "interval2_counts = count_events(interval2_data)\n",
    "interval3_counts = count_events(interval3_data)\n",
    "interval_num_yrs = 2+3+6\n",
    "interval_counts = { 'northwest': 0, 'west': 0, 'southwest': 0, 'south': 0, \n",
    "                    'southeast': 0, 'midwest': 0, 'ohio': 0 }\n",
    "for region in interval_counts.keys():\n",
    "    year_weight = 2 / interval_num_yrs\n",
    "    interval_counts[region] = round((interval1_counts[region] + interval2_counts[region] + interval3_counts[region]) * year_weight, 2)\n",
    "\n",
    "print(interval_counts)"
   ]
  },
  {
   "cell_type": "code",
   "execution_count": null,
   "metadata": {},
   "outputs": [],
   "source": []
  }
 ],
 "metadata": {
  "kernelspec": {
   "display_name": "Python 3 (ipykernel)",
   "language": "python",
   "name": "python3"
  },
  "language_info": {
   "codemirror_mode": {
    "name": "ipython",
    "version": 3
   },
   "file_extension": ".py",
   "mimetype": "text/x-python",
   "name": "python",
   "nbconvert_exporter": "python",
   "pygments_lexer": "ipython3",
   "version": "3.11.5"
  }
 },
 "nbformat": 4,
 "nbformat_minor": 4
}
